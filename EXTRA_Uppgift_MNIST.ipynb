{
 "cells": [
  {
   "cell_type": "code",
   "execution_count": 1,
   "id": "e9ec29fe-6272-4445-9628-ad45a8e77db2",
   "metadata": {},
   "outputs": [],
   "source": [
    "import torchvision.datasets as datasets\n",
    "import numpy as np\n",
    "import matplotlib.pyplot as plt\n",
    "import torchvision.transforms as transforms\n",
    "import torch.optim as optim"
   ]
  },
  {
   "cell_type": "code",
   "execution_count": 2,
   "id": "1cee6bc2-2544-4f30-8f8d-d99012c8531e",
   "metadata": {},
   "outputs": [],
   "source": [
    "data_path = \"path\"\n",
    "#spara dataset"
   ]
  },
  {
   "cell_type": "code",
   "execution_count": 3,
   "id": "22d4aeaa-5293-48b9-a1d2-c09e36252a7f",
   "metadata": {},
   "outputs": [],
   "source": [
    "#ladda dataset\n",
    "mnist_train = datasets.MNIST(root=data_path, train=True, download=True)\n",
    "mnist_test = datasets.MNIST(root=data_path, train=False, download=True)"
   ]
  },
  {
   "cell_type": "code",
   "execution_count": null,
   "id": "18b2a0ee-a60c-4ffc-bcb2-fa62c58a333f",
   "metadata": {},
   "outputs": [],
   "source": [
    "#visa antal exemple\n",
    "print(\"Antal exempel i träningsuppsättningen:\", len(mnist_train))\n",
    "print(\"Antal exempel i testuppsättningen:\", len(mnist_test))"
   ]
  },
  {
   "cell_type": "code",
   "execution_count": null,
   "id": "11f514c5-7b7f-4f7f-8bf4-285434e5a2fb",
   "metadata": {},
   "outputs": [],
   "source": [
    "#visa storleken på bilder\n",
    "print(\"Storlek på bilder i MNIST-datasetet:\", mnist_train[0][0].size)\n"
   ]
  },
  {
   "cell_type": "code",
   "execution_count": null,
   "id": "d361a81e-f871-40dc-9972-b1e4b9f29f8e",
   "metadata": {},
   "outputs": [],
   "source": [
    "# Visa några exempelbilder från träningsuppsättningen\n",
    "num_examples_to_show = 5\n",
    "fig, axes = plt.subplots(1, num_examples_to_show, figsize=(15, 3))\n",
    "for i in range(num_examples_to_show):\n",
    "    image, label = mnist_train[i]\n",
    "    axes[i].imshow(np.array(image), cmap='gray')\n",
    "    axes[i].set_title(\"Label: {}\".format(label))\n",
    "    axes[i].axis('off')\n",
    "plt.show()"
   ]
  },
  {
   "cell_type": "code",
   "execution_count": 7,
   "id": "0b201347-c372-47e9-823d-f754d589bc07",
   "metadata": {},
   "outputs": [],
   "source": [
    "# Definiera transformations för att konvertera bilderna till tensorer och normalisera dem\n",
    "transform = transforms.Compose([\n",
    "    transforms.ToTensor(),  # Konvertera bilderna till tensorer\n",
    "    transforms.Normalize((0.5,), (0.5,))  # Normalisera bilderna med medelvärde 0.5 och standardavvikelse 0.5 för varje kanal\n",
    "])\n",
    "\n",
    "# Använd transformations på tränings- och testuppsättningen\n",
    "mnist_train.transform = transform\n",
    "mnist_test.transform = transform"
   ]
  },
  {
   "cell_type": "code",
   "execution_count": 8,
   "id": "59c5f057-0a19-4f45-b876-3e93c483e358",
   "metadata": {},
   "outputs": [],
   "source": [
    "#Skapa dataLoader\n",
    "import torch\n",
    "from torch.utils.data import DataLoader\n",
    "\n",
    "#batchstorlek för tränings- och testdataloaders\n",
    "batch_size = 64\n",
    "\n",
    "# Skapa dataloaders för tränings- och testuppsättningen\n",
    "train_loader = DataLoader(dataset=mnist_train, batch_size=batch_size, shuffle=True)\n",
    "test_loader = DataLoader(dataset=mnist_test, batch_size=batch_size, shuffle=False)"
   ]
  },
  {
   "cell_type": "code",
   "execution_count": 9,
   "id": "3c55d823-5e8a-4ce2-98ac-29c04ce05b88",
   "metadata": {},
   "outputs": [],
   "source": [
    "import torch.nn as nn\n",
    "import torch.nn.functional as F\n",
    "\n",
    "class CNN(nn.Module):\n",
    "    def __init__(self):\n",
    "        super(CNN, self).__init__()\n",
    "        self.conv1 = nn.Conv2d(1, 32, kernel_size=3, padding=1)\n",
    "        self.conv2 = nn.Conv2d(32, 64, kernel_size=3, padding=1)\n",
    "        self.pool = nn.MaxPool2d(2, 2)\n",
    "        self.fc1 = nn.Linear(64 * 7 * 7, 128)\n",
    "        self.fc2 = nn.Linear(128, 10)\n",
    "\n",
    "    def forward(self, x):\n",
    "        x = self.pool(F.relu(self.conv1(x)))\n",
    "        x = self.pool(F.relu(self.conv2(x)))\n",
    "        x = x.view(-1, 64 * 7 * 7)\n",
    "        x = F.relu(self.fc1(x))\n",
    "        x = self.fc2(x)\n",
    "        return x\n",
    "\n",
    "# Skapa en instans av modellen\n",
    "model = CNN()"
   ]
  },
  {
   "cell_type": "code",
   "execution_count": 10,
   "id": "96ae4c55-7f6f-496a-9e14-705ccf7f981e",
   "metadata": {},
   "outputs": [],
   "source": [
    "\n",
    "# Definiera förlustfunktionen (cross-entropy loss) och optimeraren (SGD eller Adam)\n",
    "criterion = nn.CrossEntropyLoss()\n",
    "optimizer = optim.SGD(model.parameters(), lr=0.01, momentum=0.9)  # Exempel: SGD\n",
    "#optimizer = optim.Adam(model.parameters(), lr=0.001)  # Exempel: Adam\n"
   ]
  },
  {
   "cell_type": "code",
   "execution_count": null,
   "id": "312d8def-86a7-45a5-bb79-4d773b9dae9b",
   "metadata": {},
   "outputs": [],
   "source": [
    "# Definiera antal epocher \n",
    "num_epochs = 5\n",
    "\n",
    "# Loopa genom varje epoch\n",
    "for epoch in range(num_epochs):\n",
    "    # Sätt modellen i träningsläge\n",
    "    model.train()\n",
    "    # Loopa genom varje batch i träningsdataloadern\n",
    "    for images, labels in train_loader:\n",
    "        # Nollställ gradienter\n",
    "        optimizer.zero_grad()\n",
    "        # Framåtpassera: Beräkna förutsägelser\n",
    "        outputs = model(images)\n",
    "        # Beräkna förlusten\n",
    "        loss = criterion(outputs, labels)\n",
    "        # Bakåtpassera: Beräkna gradienter\n",
    "        loss.backward()\n",
    "        # Uppdatera vikterna\n",
    "        optimizer.step()\n",
    "\n",
    "    # Efter varje epoch, utvärdera modellen på testuppsätt\n",
    "    model.eval()\n",
    "    total_correct = 0\n",
    "    total_samples = 0\n",
    "    with torch.no_grad():  # Inaktivera autograd för att spara minne och tid\n",
    "        for images, labels in test_loader:\n",
    "            outputs = model(images)\n",
    "            _, predicted = torch.max(outputs, dim=1)\n",
    "            total_samples += labels.size(0)\n",
    "            total_correct += (predicted == labels).sum().item()\n",
    "\n",
    "    # Beräkna noggrannheten\n",
    "    accuracy = total_correct / total_samples\n",
    "    print(f'Epoch [{epoch+1}/{num_epochs}], Accuracy: {accuracy:.2f}')\n"
   ]
  },
  {
   "cell_type": "code",
   "execution_count": null,
   "id": "836c956b-0a03-4ca3-8c8d-ab97c407c8a3",
   "metadata": {},
   "outputs": [],
   "source": [
    "#antal epocher för träningen\n",
    "num_epochs = 5\n",
    "\n",
    "# Träningsloopen\n",
    "for epoch in range(num_epochs):\n",
    "    model.train()  # Ställer in modellen i träningsläge\n",
    "    running_loss = 0.0\n",
    "    for images, labels in train_loader:\n",
    "        optimizer.zero_grad()  # Återställer gradienter\n",
    "        outputs = model(images)  # Framställer förutsägelser\n",
    "        loss = criterion(outputs, labels)  # Beräknar förlusten\n",
    "        loss.backward()  # Bakåtpropagering\n",
    "        optimizer.step()  # Uppdaterar parametrar med optimeraren\n",
    "        running_loss += loss.item() * images.size(0)\n",
    "    epoch_loss = running_loss / len(train_loader.dataset)\n",
    "    print(f\"Epoch [{epoch+1}/{num_epochs}], Loss: {epoch_loss:.4f}\")\n"
   ]
  },
  {
   "cell_type": "code",
   "execution_count": null,
   "id": "f5cd6dfb",
   "metadata": {},
   "outputs": [],
   "source": [
    "# graph förlusthistoriken ifall det finns data att visas\n",
    "if loss_history:\n",
    "    plt.plot(loss_history)\n",
    "    plt.xlabel('Epoch')\n",
    "    plt.ylabel('Loss')\n",
    "    plt.title('Training Loss over Epochs')\n",
    "    plt.show()\n",
    "else:\n",
    "    print(\"No data to graph.\")"
   ]
  },
  {
   "cell_type": "code",
   "execution_count": 13,
   "id": "615bdf7c-dc46-4309-8f74-72d7ad2c46c9",
   "metadata": {},
   "outputs": [
    {
     "name": "stdout",
     "output_type": "stream",
     "text": [
      "Test Accuracy: 0.9899\n"
     ]
    }
   ],
   "source": [
    "# Ställa in modellen i utvärderingsläge\n",
    "model.eval()\n",
    "\n",
    "# Variabler för att hålla reda på antalet korrekta förutsägelser och det totala antalet exempel\n",
    "correct_predictions = 0\n",
    "total_examples = 0\n",
    "\n",
    "# Loopa över testuppsättningen för att göra förutsägelser och beräkna noggrannheten\n",
    "with torch.no_grad():  # Stänger av beräkning av gradienter för utvärdering\n",
    "    for images, labels in test_loader:\n",
    "        outputs = model(images)\n",
    "        _, predicted = torch.max(outputs, 1)  # Väljer den klass med högst sannolikhet\n",
    "        total_examples += labels.size(0)\n",
    "        correct_predictions += (predicted == labels).sum().item()\n",
    "\n",
    "# Beräkna noggrannheten\n",
    "accuracy = correct_predictions / total_examples\n",
    "print(f\"Test Accuracy: {accuracy:.4f}\")\n"
   ]
  },
  {
   "cell_type": "code",
   "execution_count": null,
   "id": "69230626-5120-4477-99bc-6aa78177bd92",
   "metadata": {},
   "outputs": [],
   "source": []
  }
 ],
 "metadata": {
  "kernelspec": {
   "display_name": "Python 3 (ipykernel)",
   "language": "python",
   "name": "python3"
  },
  "language_info": {
   "codemirror_mode": {
    "name": "ipython",
    "version": 3
   },
   "file_extension": ".py",
   "mimetype": "text/x-python",
   "name": "python",
   "nbconvert_exporter": "python",
   "pygments_lexer": "ipython3",
   "version": "3.12.2"
  }
 },
 "nbformat": 4,
 "nbformat_minor": 5
}
